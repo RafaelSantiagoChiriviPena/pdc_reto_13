{
 "cells": [
  {
   "cell_type": "code",
   "execution_count": 26,
   "metadata": {},
   "outputs": [
    {
     "name": "stdout",
     "output_type": "stream",
     "text": [
      "6 54 68 \n",
      "\n",
      "coctel hipopotamo zoologico "
     ]
    }
   ],
   "source": [
    "# reto 13 1 \n",
    "dicc1 = {1: \"zoologico\", 2: \"hipopotamo\" , 3: \"coctel\"}\n",
    "dicc2 = {\"uno\" : 54, \"dos\": 68, \"tres\":6}\n",
    "\n",
    "sort_dicc2 = dict(sorted(dicc2.items(), key=lambda valor: valor[1])) # se reordena el diccionario vuelto lista a partir de los valores al definir la funcion key y luego se vuelve diccionario\n",
    "for llave, valor  in sort_dicc2.items():    # se recorre el diccionario \n",
    "    print(f\"{valor}\", end=\" \")  # se imprime los valores\n",
    "\n",
    "print(\"\\n\")\n",
    "\n",
    "# mismo proceso, en diccionario 1\n",
    "\n",
    "sort_dicc1 = dict(sorted(dicc1.items(), key=lambda valor: valor[1]))\n",
    "for llave, valor  in sort_dicc1.items():\n",
    "    print(f\"{valor}\", end=\" \")"
   ]
  },
  {
   "cell_type": "code",
   "execution_count": 45,
   "metadata": {},
   "outputs": [
    {
     "name": "stdout",
     "output_type": "stream",
     "text": [
      "{1: 'zoologico', 2: 'hipopotamo', 3: 'coctel', 'uno': 54, 'tres': 6}\n"
     ]
    }
   ],
   "source": [
    "# reto 13 2 \n",
    "def mezcla_dicc ( dicc1, dicc2):    # se define la funcion mezcla de diccionario\n",
    "    for keys in dicc2:  # se recorren las llaves del segundo diccionario\n",
    "        if keys in dicc1:   # se buscan las llaves dentro del primer diccionario\n",
    "            dicc2[keys] = dicc1[keys]   # si se encuentra, se igualan los valores\n",
    "    dicc1.update(dicc2) # se actualizan y agregan los valores del segundo diccionario al primero\n",
    "    return dicc1    # se retorna el diccionario actualizado\n",
    "if __name__ == \"__main__\":\n",
    "    dicc1 = {1: \"zoologico\", 2: \"hipopotamo\" , 3: \"coctel\"}\n",
    "    dicc2 = {\"uno\" : 54, 2 : 68, \"tres\":6}\n",
    "    dicc3 = mezcla_dicc(dicc1,dicc2)\n",
    "    print(dicc3)"
   ]
  },
  {
   "cell_type": "code",
   "execution_count": 77,
   "metadata": {},
   "outputs": [
    {
     "name": "stdout",
     "output_type": "stream",
     "text": [
      "1. F�utbol\n",
      "2. Ajedrez\n",
      "3. Gimnasia\n",
      "4. Baloncesto\n",
      "Las personas que practican este deporte son: \n",
      "Juan Antonio D��az Coronado\n",
      "Dorotea Maritza Luna Sol\n",
      "Las personas en este rango de edad son:\n",
      "No existen personas dentro de este rango de edad\n",
      "No existen personas dentro de este rango de edad\n"
     ]
    }
   ],
   "source": [
    "# reto 13 3\n",
    "import json\n",
    "Json = \"\"\"{\n",
    "\t\"jadiazcoronado\":{\n",
    "\t\t\"nombres\": \"Juan Antonio\",\n",
    "\t\t\"apellidos\": \"D��az Coronado\",\n",
    "\t\t\"edad\":19,\n",
    "\t\t\"colombiano\":true,\n",
    "\t\t\"deportes\":[\"F�utbol\",\"Ajedrez\",\"Gimnasia\"]\n",
    "\t},\n",
    "\t\"dmlunasol\":{\n",
    "\t\t\"nombres\": \"Dorotea Maritza\",\n",
    "\t\t\"apellidos\": \"Luna Sol\",\n",
    "\t\t\"edad\":25,\n",
    "\t\t\"colombiano\":false,\n",
    "\t\t\"deportes\":[\"Baloncesto\",\"Ajedrez\",\"Gimnasia\"]\n",
    "\t}\n",
    "}\"\"\"\n",
    "\n",
    "Deportes = [\"F�utbol\",\"Ajedrez\",\"Gimnasia\",\"Baloncesto\"]    # se define una lista con los deportes del json\n",
    "data = json.loads(Json)     # se asigna el json a una variable\n",
    "\n",
    "def buscar_deporte (dep : int) -> str:  # se define la funcion que toma un deporte como entero para regresar la cadena de los nombres y apellidos que juegan ese deporte\n",
    "    print(\"Las personas que practican este deporte son: \")\n",
    "    for keys, values in data.items():   # se recorre el json\n",
    "        if Deportes[dep-1] in values.get(\"deportes\"):   # se verifica que el deporte ingresado se encuentre en los deportes del json\n",
    "               print(f\"{values.get(\"nombres\")} {values.get(\"apellidos\")}\")  # si resulta encontrarse el deporte, se imprime el nombre y apellido de quien lo juega\n",
    "\n",
    "def buscar_edad (min_edad : int, max_edad : int) -> str:    # se define la funcion que toma dos valores enteros, para verificar que las edades del json se encuentren dentro del rango de edades \n",
    "    existencia = 0\n",
    "    print(\"Las personas en este rango de edad son:\")\n",
    "    for keys, values in data.items():   # se recorre las llaves y valores del json vuelto tuplas\n",
    "        if values.get(\"edad\") > min_edad and values.get(\"edad\") <= max_edad:    # verifica si la edad dentro del json esta dentro del rango de edad\n",
    "            print(f\"{values.get(\"nombres\")} {values.get(\"apellidos\")}\") # si se cumple la condicion, imprime el nombre y apellido de quien esta en el rango\n",
    "            existencia += 1 # si se encuentra alguien en el rango, se asigna un valor diferente a \"existencia\"\n",
    "        elif existencia == 0: # si no se encuentran personas en el rango\n",
    "       \t\tprint(\"No existen personas dentro de este rango de edad\")\n",
    "        \n",
    "\n",
    "\n",
    "if __name__ == \"__main__\":\n",
    "    for i in range(0,len(Deportes)):    # se imprimen los deportes como una lista numerada a partir de 1\n",
    "        print(f\"{i+1}. {Deportes[i]}\")\n",
    "    selec_depor = int(input(\"Seleccione un deporte de entre los siguientes: \")) # el usuario selecciona un deporte como numero dentro de la lista impresa\n",
    "    buscar_deporte(selec_depor) # se aplica la funcion sobre el deporte como numero seleccionado\n",
    "    selec_min_edad = int(input(\"Ingrese una edad minima para la busqueda: \"))   # se ingresa una edad minima para el rango\n",
    "    selec_max_edad = int(input(\"Ingrese una edad maxima para la busqueda: \"))   # se ingresa una edad maxima para el rango\n",
    "    buscar_edad(selec_min_edad,selec_max_edad)  # se aplica la funcion sobre las edades ingresadas"
   ]
  },
  {
   "cell_type": "code",
   "execution_count": 124,
   "metadata": {},
   "outputs": [
    {
     "name": "stdout",
     "output_type": "stream",
     "text": [
      "dia 0 :2023-05-26 16:00:00\n",
      "Fenomeno: Precipitacion\n",
      "clouds: 100\n",
      "dew point: 23.93\n",
      "humidity: 85\n",
      "pop: 1.0\n",
      "prcp: 40.0 \n",
      "\n",
      "dia 1 :2023-05-27 16:00:00\n",
      "Fenomeno: Temperatura minima\n",
      "tmpMin: 24.64\n",
      "uvi: 12.78 \n",
      "\n",
      "dia 2 :2023-05-28 16:00:00\n",
      "Fenomeno: Velocidad viento\n",
      "dirviento: 21\n",
      "pressure: 1012\n",
      "velViento: 5.38\n",
      "wind gust: 8.95 \n",
      "\n",
      "dia 5 :2023-05-31 16:00:00\n",
      "Fenomeno: Temperatura maxima\n",
      "tmpMax: 29.78\n",
      "uvi: 1.0 \n",
      "\n"
     ]
    },
    {
     "name": "stderr",
     "output_type": "stream",
     "text": [
      "C:\\Users\\santi\\AppData\\Local\\Temp\\ipykernel_46468\\1159697127.py:31: DeprecationWarning: datetime.datetime.utcfromtimestamp() is deprecated and scheduled for removal in a future version. Use timezone-aware objects to represent datetimes in UTC: datetime.datetime.fromtimestamp(timestamp, datetime.UTC).\n",
      "  print(f\"dia {k} :{datetime.utcfromtimestamp(v).strftime('%Y-%m-%d %H:%M:%S')}\")\n"
     ]
    }
   ],
   "source": [
    "# reto 13 4\n",
    "import json\n",
    "from pprint import pprint\n",
    "from datetime import datetime\n",
    "\n",
    "# Cargar archivo\n",
    "jsonString = '''\n",
    "{\\\"dt\\\": {\\\"0\\\": 1685116800, \\\"1\\\": 1685203200, \\\"2\\\": 1685289600, \\\"3\\\": 1685376000, \\\"4\\\": 1685462400, \\\"5\\\": 1685548800, \\\"6\\\": 1685635200, \\\"7\\\": 1685721600}, \\\"sunrise\\\": {\\\"0\\\": 1685097348, \\\"1\\\": 1685183745, \\\"2\\\": 1685270143, \\\"3\\\": 1685356542, \\\"4\\\": 1685442942, \\\"5\\\": 1685529342, \\\"6\\\": 1685615743, \\\"7\\\": 1685702145}, \\\"sunset\\\": {\\\"0\\\": 1685143042, \\\"1\\\": 1685229458, \\\"2\\\": 1685315875, \\\"3\\\": 1685402291, \\\"4\\\": 1685488708, \\\"5\\\": 1685575124, \\\"6\\\": 1685661541, \\\"7\\\": 1685747958}, \\\"moonrise\\\": {\\\"0\\\": 1685118300, \\\"1\\\": 1685207460, \\\"2\\\": 1685296620, \\\"3\\\": 1685385720, \\\"4\\\": 1685474880, \\\"5\\\": 1685564220, \\\"6\\\": 1685653740, \\\"7\\\": 1685743500}, \\\"moonset\\\": {\\\"0\\\": 0, \\\"1\\\": 1685164320, \\\"2\\\": 1685253000, \\\"3\\\": 1685341560, \\\"4\\\": 1685430120, \\\"5\\\": 1685518740, \\\"6\\\": 1685607600, \\\"7\\\": 1685696640}, \\\"moon_phase\\\": {\\\"0\\\": 0.22, \\\"1\\\": 0.25, \\\"2\\\": 0.28, \\\"3\\\": 0.31, \\\"4\\\": 0.35, \\\"5\\\": 0.38, \\\"6\\\": 0.41, \\\"7\\\": 0.45}, \\\"pressure\\\": {\\\"0\\\": 1011, \\\"1\\\": 1012, \\\"2\\\": 1012, \\\"3\\\": 1012, \\\"4\\\": 1012, \\\"5\\\": 1012, \\\"6\\\": 1012, \\\"7\\\": 1011}, \\\"humidity\\\": {\\\"0\\\": 85, \\\"1\\\": 61, \\\"2\\\": 68, \\\"3\\\": 74, \\\"4\\\": 84, \\\"5\\\": 66, \\\"6\\\": 81, \\\"7\\\": 82}, \\\"dew_point\\\": {\\\"0\\\": 23.93, \\\"1\\\": 22.5, \\\"2\\\": 23.67, \\\"3\\\": 23.35, \\\"4\\\": 24.22, \\\"5\\\": 22.73, \\\"6\\\": 23.18, \\\"7\\\": 22.93}, \\\"velViento\\\": {\\\"0\\\": 3.56, \\\"1\\\": 5.07, \\\"2\\\": 5.38, \\\"3\\\": 3.95, \\\"4\\\": 4.74, \\\"5\\\": 3.75, \\\"6\\\": 4.08, \\\"7\\\": 5.94}, \\\"dirViento\\\": {\\\"0\\\": 188, \\\"1\\\": 14, \\\"2\\\": 21, \\\"3\\\": 23, \\\"4\\\": 40, \\\"5\\\": 330, \\\"6\\\": 176, \\\"7\\\": 168}, \\\"wind_gust\\\": {\\\"0\\\": 6.47, \\\"1\\\": 8.86, \\\"2\\\": 8.95, \\\"3\\\": 6.12, \\\"4\\\": 7.17, \\\"5\\\": 5.4, \\\"6\\\": 5.13, \\\"7\\\": 9.67}, \\\"weather\\\": {\\\"0\\\": [{\\\"id\\\": 501, \\\"main\\\": \\\"Rain\\\", \\\"description\\\": \\\"lluvia moderada\\\", \\\"icon\\\": \\\"10d\\\"}], \\\"1\\\": [{\\\"id\\\": 500, \\\"main\\\": \\\"Rain\\\", \\\"description\\\": \\\"lluvia ligera\\\", \\\"icon\\\": \\\"10d\\\"}], \\\"2\\\": [{\\\"id\\\": 501, \\\"main\\\": \\\"Rain\\\", \\\"description\\\": \\\"lluvia moderada\\\", \\\"icon\\\": \\\"10d\\\"}], \\\"3\\\": [{\\\"id\\\": 500, \\\"main\\\": \\\"Rain\\\", \\\"description\\\": \\\"lluvia ligera\\\", \\\"icon\\\": \\\"10d\\\"}], \\\"4\\\": [{\\\"id\\\": 501, \\\"main\\\": \\\"Rain\\\", \\\"description\\\": \\\"lluvia moderada\\\", \\\"icon\\\": \\\"10d\\\"}], \\\"5\\\": [{\\\"id\\\": 500, \\\"main\\\": \\\"Rain\\\", \\\"description\\\": \\\"lluvia ligera\\\", \\\"icon\\\": \\\"10d\\\"}], \\\"6\\\": [{\\\"id\\\": 500, \\\"main\\\": \\\"Rain\\\", \\\"description\\\": \\\"lluvia ligera\\\", \\\"icon\\\": \\\"10d\\\"}], \\\"7\\\": [{\\\"id\\\": 500, \\\"main\\\": \\\"Rain\\\", \\\"description\\\": \\\"lluvia ligera\\\", \\\"icon\\\": \\\"10d\\\"}]}, \\\"clouds\\\": {\\\"0\\\": 100, \\\"1\\\": 82, \\\"2\\\": 99, \\\"3\\\": 100, \\\"4\\\": 100, \\\"5\\\": 59, \\\"6\\\": 100, \\\"7\\\": 100}, \\\"pop\\\": {\\\"0\\\": 1.0, \\\"1\\\": 0.65, \\\"2\\\": 0.98, \\\"3\\\": 0.86, \\\"4\\\": 1.0, \\\"5\\\": 0.62, \\\"6\\\": 0.93, \\\"7\\\": 0.95}, \\\"prcp\\\": {\\\"0\\\": 40.0, \\\"1\\\": 1.65, \\\"2\\\": 14.01, \\\"3\\\": 5.07, \\\"4\\\": 16.55, \\\"5\\\": 2.17, \\\"6\\\": 2.77, \\\"7\\\": 1.73}, \\\"uvi\\\": {\\\"0\\\": 10.14, \\\"1\\\": 12.78, \\\"2\\\": 12.73, \\\"3\\\": 8.44, \\\"4\\\": 0.59, \\\"5\\\": 1.0, \\\"6\\\": 1.0, \\\"7\\\": 1.0}, \\\"temp.day\\\": {\\\"0\\\": 26.62, \\\"1\\\": 30.95, \\\"2\\\": 30.17, \\\"3\\\": 28.37, \\\"4\\\": 27.22, \\\"5\\\": 29.78, \\\"6\\\": 26.83, \\\"7\\\": 26.36}, \\\"tmpMin\\\": {\\\"0\\\": 25.64, \\\"1\\\": 24.64, \\\"2\\\": 25.84, \\\"3\\\": 25.56, \\\"4\\\": 25.72, \\\"5\\\": 24.86, \\\"6\\\": 25.96, \\\"7\\\": 25.47}, \\\"tmpMax\\\": {\\\"0\\\": 27.16, \\\"1\\\": 31.1, \\\"2\\\": 30.2, \\\"3\\\": 29.5, \\\"4\\\": 28.87, \\\"5\\\": 29.78, \\\"6\\\": 28.96, \\\"7\\\": 28.25}, \\\"temp.night\\\": {\\\"0\\\": 25.67, \\\"1\\\": 27.39, \\\"2\\\": 26.24, \\\"3\\\": 27.2, \\\"4\\\": 25.92, \\\"5\\\": 27.14, \\\"6\\\": 26.56, \\\"7\\\": 25.66}, \\\"temp.eve\\\": {\\\"0\\\": 25.91, \\\"1\\\": 28.73, \\\"2\\\": 27.42, \\\"3\\\": 28.27, \\\"4\\\": 27.94, \\\"5\\\": 29.29, \\\"6\\\": 28.96, \\\"7\\\": 28.12}, \\\"temp.morn\\\": {\\\"0\\\": 26.5, \\\"1\\\": 24.64, \\\"2\\\": 26.13, \\\"3\\\": 25.72, \\\"4\\\": 26.04, \\\"5\\\": 24.86, \\\"6\\\": 25.98, \\\"7\\\": 25.57}, \\\"feels_like.day\\\": {\\\"0\\\": 26.62, \\\"1\\\": 34.99, \\\"2\\\": 34.96, \\\"3\\\": 32.03, \\\"4\\\": 30.67, \\\"5\\\": 33.62, \\\"6\\\": 29.45, \\\"7\\\": 26.36}, \\\"feels_like.night\\\": {\\\"0\\\": 26.56, \\\"1\\\": 30.98, \\\"2\\\": 26.24, \\\"3\\\": 30.62, \\\"4\\\": 26.84, \\\"5\\\": 30.16, \\\"6\\\": 26.56, \\\"7\\\": 26.45}, \\\"feels_like.eve\\\": {\\\"0\\\": 26.85, \\\"1\\\": 32.49, \\\"2\\\": 30.94, \\\"3\\\": 31.8, \\\"4\\\": 31.51, \\\"5\\\": 33.17, \\\"6\\\": 32.64, \\\"7\\\": 31.18}, \\\"feels_like.morn\\\": {\\\"0\\\": 26.5, \\\"1\\\": 25.48, \\\"2\\\": 26.13, \\\"3\\\": 26.62, \\\"4\\\": 26.04, \\\"5\\\": 25.73, \\\"6\\\": 25.98, \\\"7\\\": 26.4}, \\\"date\\\": {\\\"0\\\": 1685098800000, \\\"1\\\": 1685185200000, \\\"2\\\": 1685271600000, \\\"3\\\": 1685358000000, \\\"4\\\": 1685444400000, \\\"5\\\": 1685530800000, \\\"6\\\": 1685617200000, \\\"7\\\": 1685703600000}, \\\"main\\\": {\\\"0\\\": \\\"Rain\\\", \\\"1\\\": \\\"Rain\\\", \\\"2\\\": \\\"Rain\\\", \\\"3\\\": \\\"Rain\\\", \\\"4\\\": \\\"Rain\\\", \\\"5\\\": \\\"Rain\\\", \\\"6\\\": \\\"Rain\\\", \\\"7\\\": \\\"Rain\\\"}, \\\"description\\\": {\\\"0\\\": \\\"lluvia moderada\\\", \\\"1\\\": \\\"lluvia ligera\\\", \\\"2\\\": \\\"lluvia moderada\\\", \\\"3\\\": \\\"lluvia ligera\\\", \\\"4\\\": \\\"lluvia moderada\\\", \\\"5\\\": \\\"lluvia ligera\\\", \\\"6\\\": \\\"lluvia ligera\\\", \\\"7\\\": \\\"lluvia ligera\\\"}, \\\"icono\\\": {\\\"0\\\": \\\"10d\\\", \\\"1\\\": \\\"10d\\\", \\\"2\\\": \\\"10d\\\", \\\"3\\\": \\\"10d\\\", \\\"4\\\": \\\"10d\\\", \\\"5\\\": \\\"10d\\\", \\\"6\\\": \\\"10d\\\", \\\"7\\\": \\\"10d\\\"}, \\\"alertPrecip\\\": {\\\"0\\\": \\\"X\\\", \\\"1\\\": \\\"-\\\", \\\"2\\\": \\\"-\\\", \\\"3\\\": \\\"-\\\", \\\"4\\\": \\\"-\\\", \\\"5\\\": \\\"-\\\", \\\"6\\\": \\\"-\\\", \\\"7\\\": \\\"-\\\"}, \\\"alertAlertas\\\": {\\\"0\\\": \\\"-\\\", \\\"1\\\": \\\"-\\\", \\\"2\\\": \\\"-\\\", \\\"3\\\": \\\"-\\\", \\\"4\\\": \\\"-\\\", \\\"5\\\": \\\"-\\\", \\\"6\\\": \\\"-\\\", \\\"7\\\": \\\"-\\\"}, \\\"alertVelViento\\\": {\\\"0\\\": \\\"-\\\", \\\"1\\\": \\\"-\\\", \\\"2\\\": \\\"X\\\", \\\"3\\\": \\\"-\\\", \\\"4\\\": \\\"-\\\", \\\"5\\\": \\\"-\\\", \\\"6\\\": \\\"-\\\", \\\"7\\\": \\\"-\\\"}, \\\"alertTmpMax\\\": {\\\"0\\\": \\\"-\\\", \\\"1\\\": \\\"-\\\", \\\"2\\\": \\\"-\\\", \\\"3\\\": \\\"-\\\", \\\"4\\\": \\\"-\\\", \\\"5\\\": \\\"X\\\", \\\"6\\\": \\\"-\\\", \\\"7\\\": \\\"-\\\"}, \\\"alertTmpMin\\\": {\\\"0\\\": \\\"-\\\", \\\"1\\\": \\\"X\\\", \\\"2\\\": \\\"-\\\", \\\"3\\\": \\\"-\\\", \\\"4\\\": \\\"-\\\", \\\"5\\\": \\\"-\\\", \\\"6\\\": \\\"-\\\", \\\"7\\\": \\\"-\\\"}, \\\"recomendaciones\\\": {\\\"lluvias\\\": \\\"Realice una revisi\\\\u00f3n y limpieza a la red de desague y canales existentes ENTER8 Cuente con una estaci\\\\u00f3n de bombeo, que debe estar ubicada en el punto m\\\\u00e1s bajo del predio. Aseg\\\\u00farese de encender y probar el sistema de bombeo al menos una vez al mes y hacer un mantenimiento mensual al equipo de bombeoENTER8 Los productos alojados en zonas de almacenamiento deben mantenersen sobre estibas - estanterias, con el fin de que no entren en contacto directo con el agua.\\\", \\\"vientos\\\": \\\"-\\\", \\\"temperatura\\\": \\\"-\\\"}}\n",
    "'''\n",
    "#'alertAlertas', 'alertPrecip', 'alertTmpMax', 'alertTmpMin', 'alertVelViento'. fenomernos a tomar en cuenta\n",
    "data = json.loads(jsonString)   # asignacion de json a variable\n",
    "#pprint(data)\n",
    "dias_fenomeno = [] # se define una lista vacia \n",
    "\n",
    "#se recorren los valores dentro de los diccionarios de cada fenomeno para encontrar los dias en que sucede un fenomeno, para asi agregar el numero del dia a la lista\n",
    "\n",
    "for k,v in data['alertAlertas'].items():\n",
    "    if v == 'X':\n",
    "        dias_fenomeno.append(k)\n",
    "for k,v in data['alertPrecip'].items():\n",
    "    if v == 'X':\n",
    "        dias_fenomeno.append(k)\n",
    "for k,v in data['alertTmpMax'].items():\n",
    "    if v == 'X':\n",
    "        dias_fenomeno.append(k)\n",
    "for k,v in data['alertTmpMin'].items():\n",
    "    if v == 'X':\n",
    "        dias_fenomeno.append(k)\n",
    "for k,v in data['alertVelViento'].items():\n",
    "    if v == 'X':\n",
    "        dias_fenomeno.append(k)\n",
    "\n",
    "# se recorre el diccionario de fechas, y si el dia coincide con la lista de dias con fenomeno, se convierte e imprime el formato de la fecha\n",
    "for k,v in data['dt'].items():\n",
    "    if k in dias_fenomeno:\n",
    "        print(f\"dia {k} :{datetime.utcfromtimestamp(v).strftime('%Y-%m-%d %H:%M:%S')}\")\n",
    "\n",
    "        #segun el fenomeno asignado a cada dia, se imprime el valor de las variables relacionadas al fenomeno y el tipo de fenomeno\n",
    "\n",
    "        if k == '0':\n",
    "            print(\"Fenomeno: Precipitacion\")\n",
    "            print(f\"clouds: {data['clouds'][k]}\")\n",
    "            print(f\"dew point: {data['dew_point'][k]}\")\n",
    "            print(f\"humidity: {data['humidity'][k]}\")\n",
    "            print(f\"pop: {data['pop'][k]}\")\n",
    "            print(f\"prcp: {data['prcp'][k]} \\n\")\n",
    "        if k == '1':\n",
    "            print(\"Fenomeno: Temperatura minima\")\n",
    "            print(f\"tmpMin: {data['tmpMin'][k]}\")\n",
    "            print(f\"uvi: {data['uvi'][k]} \\n\")\n",
    "        if k == '2':\n",
    "            print(\"Fenomeno: Velocidad viento\")\n",
    "            print(f\"dirviento: {data['dirViento'][k]}\")\n",
    "            print(f\"pressure: {data['pressure'][k]}\")\n",
    "            print(f\"velViento: {data['velViento'][k]}\")\n",
    "            print(f\"wind gust: {data['wind_gust'][k]} \\n\")\n",
    "        if k == '5':\n",
    "            print(\"Fenomeno: Temperatura maxima\")\n",
    "            print(f\"tmpMax: {data['tmpMax'][k]}\")\n",
    "            print(f\"uvi: {data['uvi'][k]} \\n\")"
   ]
  },
  {
   "cell_type": "code",
   "execution_count": 128,
   "metadata": {},
   "outputs": [
    {
     "name": "stdout",
     "output_type": "stream",
     "text": [
      "Llave: count , Valor: 16427\n",
      "Llave: name , Valor: santiago\n",
      "Llave: age , Valor: 64\n",
      "\n",
      "\n",
      "Llave: message , Valor: https://images.dog.ceo/breeds/mastiff-bull/n02108422_2338.jpg\n",
      "Llave: status , Valor: success\n",
      "\n",
      "\n",
      "Llave: fact , Valor: Cats have 32 muscles that control the outer ear (humans have only 6). A cat can independently rotate its ears 180 degrees.\n",
      "Llave: length , Valor: 122\n",
      "\n",
      "\n"
     ]
    }
   ],
   "source": [
    "# reto 13 5 \n",
    "\n",
    "import json\n",
    "import requests\n",
    "from pprint import pprint\n",
    "\n",
    "def Imprimir_Json(Json):    # se define la funcion para tomar un json proporcionado y analizar si el valor encontrado es otro diccionario para poder definir su metodo de impresion\n",
    "    for k,v in Json.items():\n",
    "        if isinstance(v, list): #verificar si esta como elemento lista\n",
    "            if isinstance(v[0], dict): # verificar si es un diccionario\n",
    "                print(f\"Llave: {k}, Valor(Otro diccionario): \\n\")\n",
    "                for i,j in v[0].items():\n",
    "                    print(f\"Llave: {i} , Valor: {j}\")\n",
    "        else:\n",
    "            print(f\"Llave: {k} , Valor: {v}\")\n",
    "url = ['https://api.agify.io?name=santiago','https://dog.ceo/api/breeds/image/random','https://catfact.ninja/fact']\n",
    "for i in range(len(url)):\n",
    "    Api=requests.get(url[i]) # se hace una solicitud de dato a la api\n",
    "    if Api.status_code == 200: # se verifica que la solicitud haya sido aprobada por el servidor\n",
    "        Api=Api.json()  # la solicitud de dato se convierte a un json legible para el programa\n",
    "        Imprimir_Json(Api)  # se imprime el json\n",
    "        print(\"\\n\")\n",
    "    else:\n",
    "        print('Error en la solicitud, detalles:', Api.text)"
   ]
  }
 ],
 "metadata": {
  "kernelspec": {
   "display_name": "Python 3",
   "language": "python",
   "name": "python3"
  },
  "language_info": {
   "codemirror_mode": {
    "name": "ipython",
    "version": 3
   },
   "file_extension": ".py",
   "mimetype": "text/x-python",
   "name": "python",
   "nbconvert_exporter": "python",
   "pygments_lexer": "ipython3",
   "version": "3.12.6"
  }
 },
 "nbformat": 4,
 "nbformat_minor": 2
}
